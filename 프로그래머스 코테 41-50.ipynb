{
 "cells": [
  {
   "cell_type": "code",
   "execution_count": null,
   "metadata": {},
   "outputs": [],
   "source": [
    "#41. 옷가게 할인받기\n",
    "## if는 조건 한 번 ok되면 거기서 멈춤\n",
    "def solution(price):\n",
    "    answer = price\n",
    "    if price >= 500000:\n",
    "        answer -= price * 0.2\n",
    "    elif price >= 300000:\n",
    "        answer -= price * 0.1\n",
    "    elif price >= 100000:\n",
    "        answer -= price * 0.05\n",
    "\n",
    "    return answer"
   ]
  },
  {
   "cell_type": "code",
   "execution_count": 13,
   "metadata": {},
   "outputs": [
    {
     "name": "stdout",
     "output_type": "stream",
     "text": [
      "\n",
      "*\n",
      "**\n",
      "***\n",
      "3\n"
     ]
    }
   ],
   "source": [
    "#42. 직각삼각형 출력하기\n",
    "n = int(input())\n",
    "for i in range(1, n+1):\n",
    "    print('*' * i)"
   ]
  },
  {
   "cell_type": "code",
   "execution_count": null,
   "metadata": {},
   "outputs": [],
   "source": [
    "#43. 개미 군단\n",
    "def solution(hp):\n",
    "    answer = 0\n",
    "    answer += hp // 5 \n",
    "    answer += (hp % 5) // 3\n",
    "    answer += ((hp % 5) % 3) // 1\n",
    "\n",
    "    return answer"
   ]
  },
  {
   "cell_type": "code",
   "execution_count": null,
   "metadata": {},
   "outputs": [],
   "source": [
    "#44. 가위 바위 보\n",
    "def solution(rsp):\n",
    "    win_map = {'2': '0', '0': '5', '5': '2'}\n",
    "    \n",
    "    return ''.join(win_map[i] for i in rsp)"
   ]
  },
  {
   "cell_type": "code",
   "execution_count": 16,
   "metadata": {},
   "outputs": [
    {
     "name": "stdout",
     "output_type": "stream",
     "text": [
      "2\n"
     ]
    }
   ],
   "source": [
    "#45. 숨어있는 숫자의 덧셈(1)\n",
    "def solution(my_string):\n",
    "    answer = 0\n",
    "    num = ['1', '2', '3', '4', '5', '6', '7', '8', '9']\n",
    "    for i in my_string:\n",
    "        if i in num:\n",
    "            answer += int(i)\n",
    "    \n",
    "    return answer"
   ]
  },
  {
   "cell_type": "code",
   "execution_count": 44,
   "metadata": {},
   "outputs": [
    {
     "name": "stdout",
     "output_type": "stream",
     "text": [
      "[2, 3, 4, 6, 8, 6, 3, 0, -3, -6, -9, -12, 20, 15, 10, 5, 0, -5, -10, -15, -20]\n"
     ]
    },
    {
     "data": {
      "text/plain": [
       "20"
      ]
     },
     "execution_count": 44,
     "metadata": {},
     "output_type": "execute_result"
    }
   ],
   "source": [
    "#46. 최댓값 만들기 (2)\n",
    "def solution(numbers):\n",
    "    list = []\n",
    "    answer = 0\n",
    "    for i in range(len(numbers)):\n",
    "        for j in range(i+1, len(numbers)):\n",
    "                list.append(numbers[i] * numbers[j])\n",
    "    \n",
    "    answer = max(list)\n",
    "    print(list)\n",
    "\n",
    "    return answer"
   ]
  },
  {
   "cell_type": "code",
   "execution_count": 58,
   "metadata": {},
   "outputs": [
    {
     "data": {
      "text/plain": [
       "'AbCDefGE'"
      ]
     },
     "execution_count": 58,
     "metadata": {},
     "output_type": "execute_result"
    }
   ],
   "source": [
    "#47. 대문자와 소문자\n",
    "def solution(my_string):\n",
    "    answer = ''\n",
    "    for i in my_string:\n",
    "        if i.isupper() == True:\n",
    "            answer += (i.lower())\n",
    "        else:\n",
    "            answer += (i.upper())\n",
    "\n",
    "    return answer"
   ]
  },
  {
   "cell_type": "code",
   "execution_count": null,
   "metadata": {},
   "outputs": [],
   "source": [
    "#48. 인덱스 바꾸기\n",
    "def solution(my_string, num1, num2):\n",
    "    answer = ''\n",
    "    my_string = list(my_string)\n",
    "    my_string[num1], my_string[num2] = my_string[num2], my_string[num1]\n",
    "    answer = ''.join(my_string)\n",
    "\n",
    "    return answer"
   ]
  },
  {
   "cell_type": "code",
   "execution_count": 100,
   "metadata": {},
   "outputs": [
    {
     "name": "stdout",
     "output_type": "stream",
     "text": [
      "abcdefg\n"
     ]
    }
   ],
   "source": [
    "#49. 약수 구하기\n",
    "def solution(n):\n",
    "    answer = []\n",
    "    for i in range(1, n+1):\n",
    "        if n % i == 0:\n",
    "            answer.append(i)\n",
    "    \n",
    "    return answer"
   ]
  },
  {
   "cell_type": "code",
   "execution_count": 110,
   "metadata": {},
   "outputs": [
    {
     "name": "stdout",
     "output_type": "stream",
     "text": [
      "2\n"
     ]
    }
   ],
   "source": [
    "#50. 가장 큰 수 찾기\n",
    "def solution(array):\n",
    "    answer = []\n",
    "    i = max(array)\n",
    "    p = array.index(i)\n",
    "    answer.append(i)\n",
    "    answer.append(p)\n",
    "\n",
    "    return answer"
   ]
  }
 ],
 "metadata": {
  "kernelspec": {
   "display_name": "Python 3",
   "language": "python",
   "name": "python3"
  },
  "language_info": {
   "codemirror_mode": {
    "name": "ipython",
    "version": 3
   },
   "file_extension": ".py",
   "mimetype": "text/x-python",
   "name": "python",
   "nbconvert_exporter": "python",
   "pygments_lexer": "ipython3",
   "version": "3.13.0"
  }
 },
 "nbformat": 4,
 "nbformat_minor": 2
}
