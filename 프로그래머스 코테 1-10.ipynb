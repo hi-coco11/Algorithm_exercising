{
 "cells": [
  {
   "cell_type": "code",
   "execution_count": 13,
   "metadata": {},
   "outputs": [
    {
     "data": {
      "text/plain": [
       "-1"
      ]
     },
     "execution_count": 13,
     "metadata": {},
     "output_type": "execute_result"
    }
   ],
   "source": [
    "#1. 두 수의 차\n",
    "def solution(num1, num2):\n",
    "    \n",
    "    answer = num1 - num2\n",
    "\n",
    "    return answer\n",
    "\n",
    "solution(1,2)"
   ]
  },
  {
   "cell_type": "code",
   "execution_count": 14,
   "metadata": {},
   "outputs": [
    {
     "data": {
      "text/plain": [
       "-1"
      ]
     },
     "execution_count": 14,
     "metadata": {},
     "output_type": "execute_result"
    }
   ],
   "source": [
    "#2 숫자 비교하기\n",
    "def solution(num1, num2):\n",
    "\n",
    "    if (num1 == num2):\n",
    "        return 1\n",
    "    else:\n",
    "        return -1\n",
    "\n",
    "solution(2, 3)"
   ]
  },
  {
   "cell_type": "code",
   "execution_count": 28,
   "metadata": {},
   "outputs": [
    {
     "data": {
      "text/plain": [
       "2002"
      ]
     },
     "execution_count": 28,
     "metadata": {},
     "output_type": "execute_result"
    }
   ],
   "source": [
    "#3. 나이 출력\n",
    "def solution(age):\n",
    "    if (age > 0 and age <= 120):\n",
    "        birth = 2022 - age + 1\n",
    "        return birth\n",
    "    else:\n",
    "        print('나이를 다시 입력하세요')\n",
    "        return None\n",
    "\n",
    "solution(20)"
   ]
  },
  {
   "cell_type": "code",
   "execution_count": 37,
   "metadata": {},
   "outputs": [
    {
     "data": {
      "text/plain": [
       "2"
      ]
     },
     "execution_count": 37,
     "metadata": {},
     "output_type": "execute_result"
    }
   ],
   "source": [
    "#4. 나머지 구하기\n",
    "\n",
    "def solution(num1, num2):\n",
    "    if ((num1 > 0 and num1 <= 100) and (num2 > 0 and num2 <= 100)):\n",
    "        remain = num1 % num2\n",
    "        return remain\n",
    "    else:\n",
    "        print('입력값 오류')\n",
    "        return None\n",
    "\n",
    "solution(18, 4)\n"
   ]
  },
  {
   "cell_type": "code",
   "execution_count": 38,
   "metadata": {},
   "outputs": [
    {
     "data": {
      "text/plain": [
       "30"
      ]
     },
     "execution_count": 38,
     "metadata": {},
     "output_type": "execute_result"
    }
   ],
   "source": [
    "#5. 두 수의 곱\n",
    "def solution(num1, num2):\n",
    "    if ((num1 >= 0 and num1 <= 100) and (num2 >= 0 and num2 <= 100)):\n",
    "        mul = num1 * num2\n",
    "        return mul\n",
    "    else:\n",
    "        print('입력값 오류')\n",
    "        return None\n",
    "    \n",
    "solution(5, 6)"
   ]
  },
  {
   "cell_type": "code",
   "execution_count": 39,
   "metadata": {},
   "outputs": [
    {
     "data": {
      "text/plain": [
       "4"
      ]
     },
     "execution_count": 39,
     "metadata": {},
     "output_type": "execute_result"
    }
   ],
   "source": [
    "#6. 몫 구하기\n",
    "def solution(num1, num2):\n",
    "    if ((num1 > 0 and num1 <= 100) and (num2 > 0 and num2 <= 100)):\n",
    "        remain = num1 // num2\n",
    "        return remain\n",
    "    else:\n",
    "        print('입력값 오류')\n",
    "        return None\n",
    "\n",
    "solution(18, 4)\n",
    "    "
   ]
  },
  {
   "cell_type": "code",
   "execution_count": 66,
   "metadata": {},
   "outputs": [
    {
     "data": {
      "text/plain": [
       "62"
      ]
     },
     "execution_count": 66,
     "metadata": {},
     "output_type": "execute_result"
    }
   ],
   "source": [
    "#7. 두 수의 나눗셈\n",
    "\n",
    "def solution(num1, num2):\n",
    "    if ((num1 > 0 and num1 <= 100) and (num2 > 0 and num2 <= 100)):\n",
    "        answer = (num1 / num2) * 1000\n",
    "        int_answer = int(answer) # 반환값 다시 저장 \n",
    "        return int_answer\n",
    "    else:\n",
    "        print('입력값 오류')\n",
    "        return None\n",
    "    \n",
    "solution(1, 16)"
   ]
  },
  {
   "cell_type": "code",
   "execution_count": 89,
   "metadata": {},
   "outputs": [
    {
     "data": {
      "text/plain": [
       "3.0"
      ]
     },
     "execution_count": 89,
     "metadata": {},
     "output_type": "execute_result"
    }
   ],
   "source": [
    "#8. 배열의 평균값\n",
    "def solution(numbers):\n",
    "    sum = 0\n",
    "    for i in numbers:\n",
    "        sum = sum + i\n",
    "        avg = sum / len(numbers)\n",
    "\n",
    "    return avg\n",
    "\n",
    "numbers = [1,2,3,4,5]\n",
    "solution(numbers)\n"
   ]
  },
  {
   "cell_type": "code",
   "execution_count": 68,
   "metadata": {},
   "outputs": [
    {
     "data": {
      "text/plain": [
       "1"
      ]
     },
     "execution_count": 68,
     "metadata": {},
     "output_type": "execute_result"
    }
   ],
   "source": [
    "#9. 각도기\n",
    "def solution(angle):\n",
    "    if (angle > 0 and angle <= 180):\n",
    "        if (angle > 0 and angle < 90):\n",
    "            return 1\n",
    "        elif (angle == 90):\n",
    "            return 2\n",
    "        elif (angle == 180):\n",
    "            return 4\n",
    "        else:\n",
    "            return 3\n",
    "    else:\n",
    "        print('입력값 오류')\n",
    "        return None\n",
    "\n",
    "solution(77)\n"
   ]
  },
  {
   "cell_type": "code",
   "execution_count": 80,
   "metadata": {},
   "outputs": [
    {
     "data": {
      "text/plain": [
       "768000"
      ]
     },
     "execution_count": 80,
     "metadata": {},
     "output_type": "execute_result"
    }
   ],
   "source": [
    "#10. 양꼬치\n",
    "def solution(n, k):\n",
    "    meat = n * 12000\n",
    "    drink = k * 2000\n",
    "\n",
    "    free_drink = n // 10 \n",
    "    drink -= free_drink * 2000\n",
    "\n",
    "    sum = meat + drink\n",
    "    \n",
    "    return sum\n",
    "\n",
    "solution(64, 6)"
   ]
  }
 ],
 "metadata": {
  "kernelspec": {
   "display_name": "Python 3",
   "language": "python",
   "name": "python3"
  },
  "language_info": {
   "codemirror_mode": {
    "name": "ipython",
    "version": 3
   },
   "file_extension": ".py",
   "mimetype": "text/x-python",
   "name": "python",
   "nbconvert_exporter": "python",
   "pygments_lexer": "ipython3",
   "version": "3.13.0"
  }
 },
 "nbformat": 4,
 "nbformat_minor": 2
}
