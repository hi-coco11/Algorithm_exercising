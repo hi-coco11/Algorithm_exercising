{
 "cells": [
  {
   "cell_type": "code",
   "execution_count": 1,
   "metadata": {},
   "outputs": [],
   "source": [
    "#71. 7의 개수\n",
    "def solution(array):\n",
    "    answer = 0\n",
    "    lucky = '7'\n",
    "    string_array = ''.join(map(str, array))\n",
    "    for i in string_array:\n",
    "        if i == lucky:\n",
    "            answer +=1\n",
    "\n",
    "    return answer\n"
   ]
  },
  {
   "cell_type": "code",
   "execution_count": null,
   "metadata": {},
   "outputs": [],
   "source": [
    "#72. 컨트롤 제트\n",
    "def solution(s):\n",
    "    stack = []  \n",
    "    \n",
    "    for i in s.split():\n",
    "        if i == \"Z\": \n",
    "            if stack: \n",
    "                stack.pop()  \n",
    "        else:\n",
    "            stack.append(int(i))  \n",
    "\n",
    "    return sum(stack)  \n",
    "\n",
    "\n",
    "# def solution(s):\n",
    "#     ctrl = 'Z'\n",
    "#     answer = 0\n",
    "#     list_answer = [int(i) for i in s.split() if i != 'Z']\n",
    "#     for j in range(0, len(list_answer)):\n",
    "#         if list_answer[j] is int:\n",
    "#             answer += j\n",
    "    \n",
    "#     for k in range(0, len(list_answer)):\n",
    "#         if list_answer[k] == ctrl:\n",
    "#             answer -= list_answer[k-1]\n",
    "\n",
    "#     return answer"
   ]
  },
  {
   "cell_type": "code",
   "execution_count": 11,
   "metadata": {},
   "outputs": [
    {
     "data": {
      "text/plain": [
       "60"
      ]
     },
     "execution_count": 11,
     "metadata": {},
     "output_type": "execute_result"
    }
   ],
   "source": [
    "#73. 소인수 분해\n",
    "def solution(n):\n",
    "    n_list = []\n",
    "    answer = []\n",
    "\n",
    "    for i in range(1, n+1):\n",
    "        if n % i == 0: \n",
    "            n_list.append(i)\n",
    "\n",
    "    prime_list = []\n",
    "    for j in n_list:\n",
    "        prime = 0  \n",
    "        for k in range(1, j+1):\n",
    "            if j % k == 0:\n",
    "                prime += 1  \n",
    "\n",
    "        if prime == 2:\n",
    "            answer.append(j)\n",
    "    \n",
    "    return answer"
   ]
  },
  {
   "cell_type": "code",
   "execution_count": 9,
   "metadata": {},
   "outputs": [
    {
     "name": "stdout",
     "output_type": "stream",
     "text": [
      "[1, 2, 3, 4, 5, 6, 7, 10, 12, 14, 15, 20, 21, 28, 30, 35, 42, 60, 70, 84, 105, 140, 210, 420]\n",
      "[2, 2]\n"
     ]
    }
   ],
   "source": [
    "\n",
    "# n = 420\n",
    "# n_list = []\n",
    "# for i in range(1, n+1):\n",
    "#     if n % i == 0: \n",
    "#         n_list.append(i)\n",
    "\n",
    "# prime = 0\n",
    "# prime_list = []\n",
    "# print(n_list)\n",
    "# for j in n_list:\n",
    "    ### prime을 초기화해줘야 함 // 알맞은 위치에\n",
    "#     for k in range(1, j+1):\n",
    "#         if j % k == 0:\n",
    "#             prime += 1\n",
    "    ### 루프가 끝난 후 prime을 검사해야 함. 내부루프 안이라면 소수를 판별하기도 전에 추가됨\n",
    "#         if prime == 2:\n",
    "#             prime_list.append(j)\n"
   ]
  },
  {
   "cell_type": "code",
   "execution_count": 10,
   "metadata": {},
   "outputs": [
    {
     "name": "stdout",
     "output_type": "stream",
     "text": [
      "약수 리스트: [1, 2, 3, 4, 5, 6, 7, 10, 12, 14, 15, 20, 21, 28, 30, 35, 42, 60, 70, 84, 105, 140, 210, 420]\n",
      "소수인 약수 리스트: [2, 3, 5, 7]\n"
     ]
    }
   ],
   "source": [
    "# n = 420\n",
    "# n_list = []\n",
    "\n",
    "# # 1️⃣ n의 모든 약수 찾기\n",
    "# for i in range(1, n+1):\n",
    "#     if n % i == 0: \n",
    "#         n_list.append(i)\n",
    "\n",
    "# # 2️⃣ 약수 중에서 소수 판별\n",
    "# prime_list = []\n",
    "# for j in n_list:\n",
    "#     prime = 0  # ✅ j마다 초기화해야 함.\n",
    "#     for k in range(1, j+1):\n",
    "#         if j % k == 0:\n",
    "#             prime += 1  # ✅ 약수의 개수 증가\n",
    "\n",
    "#     if prime == 2:  # ✅ 소수 판별 (1과 자기 자신만 약수일 때)\n",
    "#         prime_list.append(j)\n",
    "\n",
    "# # 출력 결과\n",
    "# print(\"약수 리스트:\", n_list)\n",
    "# print(\"소수인 약수 리스트:\", prime_list)\n"
   ]
  },
  {
   "cell_type": "code",
   "execution_count": null,
   "metadata": {},
   "outputs": [],
   "source": [
    "#74. 이진수 더하기\n",
    "def solution(bin1, bin2):\n",
    "    a = int(bin1, 2)\n",
    "    b = int(bin2, 2)\n",
    "    answer = bin(a+b)\n",
    "    return answer.replace(\"0b\", \"\")"
   ]
  },
  {
   "cell_type": "code",
   "execution_count": null,
   "metadata": {},
   "outputs": [],
   "source": [
    "#75. 잘라서 배열로 저장하기\n",
    "def solution(my_str, n):\n",
    "    return [my_str[i:i+n] for i in range(0, len(my_str), n)]"
   ]
  },
  {
   "cell_type": "code",
   "execution_count": null,
   "metadata": {},
   "outputs": [],
   "source": [
    "#76. 공 던지기\n",
    "## Linked list 자료구조인듯\n",
    "def solution(numbers, k):\n",
    "    answer = numbers[2*(k-1) % len(numbers)]\n",
    "    return answer"
   ]
  },
  {
   "cell_type": "code",
   "execution_count": 18,
   "metadata": {},
   "outputs": [],
   "source": [
    "#77. 문자열 계산하기\n",
    "def solution(my_string):\n",
    "    answer = 0\n",
    "    num = []\n",
    "    \n",
    "    tokens = my_string.split()  \n",
    "    \n",
    "    for i in tokens:\n",
    "        if i.isdigit():  \n",
    "            num.append(int(i))\n",
    "        else:  \n",
    "            num.append(i)\n",
    "    \n",
    "    answer = num[0]  \n",
    "    for i in range(1, len(num) - 1, 2): # 연산자 부분만 순회\n",
    "        if num[i] == '+':\n",
    "            answer += num[i+1]\n",
    "        elif num[i] == '-':\n",
    "            answer -= num[i+1]\n",
    "\n",
    "    return answer\n",
    "\n",
    "# def solution(my_string):\n",
    "#     answer = 0\n",
    "#     num = []\n",
    "#     my_string.split()\n",
    "#     for i in my_string:\n",
    "#         if i.isdigit():\n",
    "#             num.append(int(i))\n",
    "#         else:\n",
    "#             num.append(i)\n",
    "    \n",
    "#     num = list(filter(lambda x: x != ' ', num)) # 공백제거\n",
    "\n",
    "#     for i in num:\n",
    "#         if i == '+':\n",
    "#             answer += (num[i-1] + num[i+1]) ## 이렇게 되면 i는 index인데 operator와 똑같지가 않음.\n",
    "#         elif i == '-':\n",
    "#             answer -= (num[i-1] - num[i+1])\n",
    "    \n",
    "#     return answer\n"
   ]
  },
  {
   "cell_type": "code",
   "execution_count": null,
   "metadata": {},
   "outputs": [],
   "source": [
    "#78. 삼각형의 완성조건(2)\n",
    "def solution(sides):\n",
    "    answer = 0\n",
    "    num = []\n",
    "    # sides 중 숫자 1개가 긴 변일 경우\n",
    "    num = sorted(sides)\n",
    "    answer += num[1] - (num[1] - num[0] + 1) + 1\n",
    "    # sides 중 긴 변이 없을 경우\n",
    "    answer += (num[0] + num[1]) - num[1] - 1\n",
    "\n",
    "    return answer\n"
   ]
  },
  {
   "cell_type": "code",
   "execution_count": 34,
   "metadata": {},
   "outputs": [
    {
     "data": {
      "text/plain": [
       "4"
      ]
     },
     "execution_count": 34,
     "metadata": {},
     "output_type": "execute_result"
    }
   ],
   "source": [
    "#79. 영어가 싫어요\n",
    "def solution(numbers):\n",
    "    answer = 0\n",
    "    number_map = {'zero':'0', 'one': '1', 'two':'2', 'three':'3',\n",
    "              'four':'4', 'five':'5', 'six':'6', 'seven':'7',\n",
    "              'eight':'8', 'nine':'9'}\n",
    "    for word, digit in number_map.items():\n",
    "        numbers = numbers.replace(word, digit)\n",
    "\n",
    "    return int(numbers)"
   ]
  },
  {
   "cell_type": "code",
   "execution_count": null,
   "metadata": {},
   "outputs": [],
   "source": [
    "#80. 구슬을 나누는 경우의 수\n",
    "## Combination(조합) 구현 문제\n",
    "def solution(balls, share):\n",
    "    balls_factorial = 1\n",
    "    share_factorial = 1\n",
    "    other_factorial = 1\n",
    "    p = (balls - share)\n",
    "    for i in range(0, balls):\n",
    "        balls_factorial *= (balls - i)\n",
    "    for k in range(0, share):\n",
    "        share_factorial *= (share - k)\n",
    "    for j in range(0, p):\n",
    "        other_factorial *= (p - j)\n",
    "\n",
    "    answer = balls_factorial / (share_factorial * other_factorial)\n",
    "    return int(answer)\n",
    "\n",
    "# def solution(balls, share):\n",
    "#     answer = factorial(balls) / (factorial(balls - share) * factorial(share))\n",
    "#     return answer\n",
    "\n",
    "# def factorial(n):\n",
    "#     result = 1\n",
    "#     for i in range(1, n + 1):\n",
    "#         result = result * i\n",
    "#     return result"
   ]
  }
 ],
 "metadata": {
  "kernelspec": {
   "display_name": "Python 3",
   "language": "python",
   "name": "python3"
  },
  "language_info": {
   "codemirror_mode": {
    "name": "ipython",
    "version": 3
   },
   "file_extension": ".py",
   "mimetype": "text/x-python",
   "name": "python",
   "nbconvert_exporter": "python",
   "pygments_lexer": "ipython3",
   "version": "3.13.0"
  }
 },
 "nbformat": 4,
 "nbformat_minor": 2
}
