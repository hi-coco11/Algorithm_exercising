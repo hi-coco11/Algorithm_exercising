{
 "cells": [
  {
   "cell_type": "code",
   "execution_count": 1,
   "metadata": {},
   "outputs": [
    {
     "data": {
      "text/plain": [
       "11"
      ]
     },
     "execution_count": 1,
     "metadata": {},
     "output_type": "execute_result"
    }
   ],
   "source": [
    "#21. 편지\n",
    "def solution(message):\n",
    "    min_text = len(message) *2\n",
    "    \n",
    "    return min_text\n"
   ]
  },
  {
   "cell_type": "code",
   "execution_count": 11,
   "metadata": {},
   "outputs": [
    {
     "data": {
      "text/plain": [
       "229376"
      ]
     },
     "execution_count": 11,
     "metadata": {},
     "output_type": "execute_result"
    }
   ],
   "source": [
    "#22. 세균증식\n",
    "def solution(n, t):\n",
    "    if (n < 1 or n >10):\n",
    "        return '1부터 10까지의 수를 입력하시오'\n",
    "    if (t < 1 or t > 15):\n",
    "        return '1부터 15까지의 수를 입력하시오'\n",
    "    bug = n*(2**t)\n",
    "\n",
    "    return bug\n",
    "\n",
    "solution(7, 15)\n"
   ]
  },
  {
   "cell_type": "code",
   "execution_count": null,
   "metadata": {},
   "outputs": [],
   "source": [
    "#23. 자릿수 더하기\n",
    "def solution(n):\n",
    "    input = str(n)\n",
    "    sum = 0\n",
    "    for i in range(len(input)):\n",
    "        sum += int(input[i])\n",
    "\n",
    "    return sum\n",
    "\n",
    "## 수학적 접근\n",
    "def solution_2(n_2):\n",
    "    sum = 0:\n",
    "    while n:\n",
    "        answer += n%10\n",
    "        n //= 10\n",
    "    return answer"
   ]
  },
  {
   "cell_type": "code",
   "execution_count": 31,
   "metadata": {},
   "outputs": [],
   "source": [
    "#24. 모음 제거\n",
    "def solution(my_string):\n",
    "    vowels = ['a','e','i','o','u']\n",
    "    answer = my_string\n",
    "    for i in vowels:\n",
    "        answer = answer.replace(i, \"\")\n",
    "\n",
    "    return answer"
   ]
  },
  {
   "cell_type": "code",
   "execution_count": 26,
   "metadata": {},
   "outputs": [
    {
     "name": "stdout",
     "output_type": "stream",
     "text": [
      "bus\n"
     ]
    }
   ],
   "source": [
    "#25. 특정 문자 제거하기\n",
    "def solution(my_string, letter):\n",
    "    erase = []\n",
    "    erase.append(letter)\n",
    "    answer = my_string\n",
    "    for i in erase:\n",
    "        answer = answer.replace(i, \"\")\n",
    "\n",
    "    return answer"
   ]
  },
  {
   "cell_type": "code",
   "execution_count": 46,
   "metadata": {},
   "outputs": [],
   "source": [
    "#26. 순서쌍의 개수\n",
    "\n",
    "def solution(n):\n",
    "    answer = []\n",
    "    for i in range(1, n+1):\n",
    "        if  n % i == 0:\n",
    "            answer.append(i)\n",
    "\n",
    "    return len(answer)\n"
   ]
  },
  {
   "cell_type": "code",
   "execution_count": 47,
   "metadata": {},
   "outputs": [],
   "source": [
    "#27. 문자 반복 출력하기\n",
    "def solution(my_string, n):\n",
    "    answer = \"\"\n",
    "    for char in my_string:\n",
    "        answer += char * n\n",
    "    \n",
    "    return answer"
   ]
  },
  {
   "cell_type": "code",
   "execution_count": 53,
   "metadata": {},
   "outputs": [],
   "source": [
    "#28. 배열 자르기\n",
    "def solution(numbers, num1, num2):\n",
    "    list = []\n",
    "    for i in range(num1, num2 + 1):\n",
    "        list.append(numbers[i])\n",
    "\n",
    "    return list\n",
    "\n",
    "## 인덱싱으로 접근해도 됨.\n",
    "# def solution(numbers, num1, num2):\n",
    "#     return numbers[num1:num2+1]"
   ]
  },
  {
   "cell_type": "code",
   "execution_count": null,
   "metadata": {},
   "outputs": [],
   "source": [
    "#29. 피자 나눠 먹기(1)\n",
    "def solution(n):\n",
    "    answer = 0\n",
    "    div = n // 7\n",
    "    answer += div\n",
    "    res = n % 7\n",
    "    if res == 0:\n",
    "        answer += 0\n",
    "    else:\n",
    "        answer += 1\n",
    "    \n",
    "    return answer\n",
    "\n",
    "# # 피자 나눠 먹기(1)\n",
    "# def solution(n):\n",
    "#     return (n-1) // 7 + 1"
   ]
  },
  {
   "cell_type": "code",
   "execution_count": null,
   "metadata": {},
   "outputs": [],
   "source": [
    "#30. 짝수 홀수 개수\n",
    "def solution(num_list):\n",
    "    answer = []\n",
    "    count_even = 0\n",
    "    count_odd = 0\n",
    "    for i in num_list:\n",
    "        if i % 2 == 0:\n",
    "            count_even += 1\n",
    "        else:\n",
    "            count_odd += 1\n",
    "    answer.append(count_even)\n",
    "    answer.append(count_odd)\n",
    "\n",
    "    return answer"
   ]
  }
 ],
 "metadata": {
  "kernelspec": {
   "display_name": "Python 3",
   "language": "python",
   "name": "python3"
  },
  "language_info": {
   "codemirror_mode": {
    "name": "ipython",
    "version": 3
   },
   "file_extension": ".py",
   "mimetype": "text/x-python",
   "name": "python",
   "nbconvert_exporter": "python",
   "pygments_lexer": "ipython3",
   "version": "3.13.0"
  }
 },
 "nbformat": 4,
 "nbformat_minor": 2
}
