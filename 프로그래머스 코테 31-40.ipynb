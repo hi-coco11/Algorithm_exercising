{
 "cells": [
  {
   "cell_type": "code",
   "execution_count": null,
   "metadata": {},
   "outputs": [],
   "source": [
    "#31. 두 수의 합\n",
    "def solution(num1, num2):\n",
    "    answer = num1 + num2\n",
    "    \n",
    "    return answer"
   ]
  },
  {
   "cell_type": "code",
   "execution_count": null,
   "metadata": {},
   "outputs": [],
   "source": [
    "#32. 문자열 뒤집기\n",
    "def solution(my_string):\n",
    "    return my_string[::-1]"
   ]
  },
  {
   "cell_type": "code",
   "execution_count": null,
   "metadata": {},
   "outputs": [],
   "source": [
    "#33. 아이스 아메리카노\n",
    "def solution(money):\n",
    "    answer = [0, 0]\n",
    "    answer[0] += (money // 5500)\n",
    "    answer[1] = (money % 5500)\n",
    "\n",
    "    return answer"
   ]
  },
  {
   "cell_type": "code",
   "execution_count": null,
   "metadata": {},
   "outputs": [],
   "source": [
    "#34. 삼각형의 완성도\n",
    "## 코드 너무 원초적\n",
    "def solution(sides):\n",
    "    list = []\n",
    "    i = max(sides)\n",
    "    list.append(i)\n",
    "    sides.remove(i)\n",
    "    sum = 0\n",
    "    for n in sides:\n",
    "        sum += n\n",
    "    if sum > list[0]:\n",
    "        return 1\n",
    "    else:\n",
    "        return 2\n",
    "    \n",
    "# # 다른 방법\n",
    "# def solution(n):\n",
    "#     return 1 if max(sides) < (sum(sides) - max(sides)) else 2"
   ]
  },
  {
   "cell_type": "code",
   "execution_count": 23,
   "metadata": {},
   "outputs": [],
   "source": [
    "#35. n의 배수 고르기\n",
    "def solution(n, numlist):\n",
    "    answer = []\n",
    "    for i in numlist:\n",
    "        if i % n == 0:\n",
    "            answer.append(i)\n",
    "        else:\n",
    "            None\n",
    "    \n",
    "    return answer"
   ]
  },
  {
   "cell_type": "code",
   "execution_count": null,
   "metadata": {},
   "outputs": [],
   "source": [
    "#36. 배열의 유사도\n",
    "def solution(s1, s2):\n",
    "    answer = 0\n",
    "    for i in s1:\n",
    "        if i in s2:\n",
    "            answer += 1\n",
    "\n",
    "    return answer"
   ]
  },
  {
   "cell_type": "code",
   "execution_count": null,
   "metadata": {},
   "outputs": [],
   "source": [
    "#37. 중복된 숫자 개수\n",
    "def solution(array, n):\n",
    "    answer = 0\n",
    "    arrange = len(array)\n",
    "    for i in range(0, arrange):\n",
    "        if array[i] == n:\n",
    "            answer += i\n",
    "\n",
    "    return answer"
   ]
  },
  {
   "cell_type": "code",
   "execution_count": 24,
   "metadata": {},
   "outputs": [
    {
     "data": {
      "text/plain": [
       "6"
      ]
     },
     "execution_count": 24,
     "metadata": {},
     "output_type": "execute_result"
    }
   ],
   "source": [
    "#38. 배열 두배 만들기\n",
    "def solution(numbers):\n",
    "        answer = [x * 2 for x in numbers]\n",
    "        return answer"
   ]
  },
  {
   "cell_type": "code",
   "execution_count": 45,
   "metadata": {},
   "outputs": [],
   "source": [
    "#39. 중앙 값 구하기\n",
    "def solution(array):\n",
    "    array.sort()\n",
    "    index = len(array) // 2 \n",
    "    answer = array[index]\n",
    "    print(index)\n",
    "    return answer"
   ]
  },
  {
   "cell_type": "code",
   "execution_count": null,
   "metadata": {},
   "outputs": [],
   "source": [
    "#40. 짝수는 싫어요\n",
    "def solution(n):\n",
    "    answer = []\n",
    "    for i in range(0, n+1):\n",
    "        if i % 2 != 0:\n",
    "            answer.append(i)\n",
    "\n",
    "    return answer"
   ]
  }
 ],
 "metadata": {
  "kernelspec": {
   "display_name": "Python 3",
   "language": "python",
   "name": "python3"
  },
  "language_info": {
   "codemirror_mode": {
    "name": "ipython",
    "version": 3
   },
   "file_extension": ".py",
   "mimetype": "text/x-python",
   "name": "python",
   "nbconvert_exporter": "python",
   "pygments_lexer": "ipython3",
   "version": "3.13.0"
  }
 },
 "nbformat": 4,
 "nbformat_minor": 2
}
