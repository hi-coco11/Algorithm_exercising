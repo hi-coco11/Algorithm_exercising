{
 "cells": [
  {
   "cell_type": "code",
   "execution_count": null,
   "metadata": {},
   "outputs": [],
   "source": [
    "#51. 문자열 정렬하기(1)\n",
    "def solution(my_string):\n",
    "    answer = []\n",
    "    num = ['0', '1', '2', '3', '4', '5', '6', '7', '8', '9']\n",
    "    for i in my_string:\n",
    "        if i in num:\n",
    "            answer.append(int(i))\n",
    "    \n",
    "    answer.sort()\n",
    "    return answer\n"
   ]
  },
  {
   "cell_type": "code",
   "execution_count": 10,
   "metadata": {},
   "outputs": [],
   "source": [
    "#52. 암호해독\n",
    "def solution(cipher, code):\n",
    "    answer = ''\n",
    "    limit = len(cipher) // code\n",
    "    for i in range(1, limit+1):\n",
    "        answer += cipher[i * code-1]\n",
    "\n",
    "    return answer\n"
   ]
  },
  {
   "cell_type": "code",
   "execution_count": 12,
   "metadata": {},
   "outputs": [
    {
     "name": "stdout",
     "output_type": "stream",
     "text": [
      "3\n",
      "10\n"
     ]
    }
   ],
   "source": [
    "#53. 주사위의 개수\n",
    "def solution(box, n):\n",
    "    answer = 0\n",
    "    width = box[0] // n\n",
    "    length = box[1] // n\n",
    "    height = box[2] // n\n",
    "    answer += width * length * height\n",
    "\n",
    "    return answer"
   ]
  },
  {
   "cell_type": "code",
   "execution_count": null,
   "metadata": {},
   "outputs": [],
   "source": [
    "#54. 피자 나눠 먹기(2)\n",
    "def solution(n):\n",
    "    i = 1\n",
    "    while True:\n",
    "        if (n * i) % 6 == 0:\n",
    "            return (n * i) // 6\n",
    "        i += 1\n",
    "\n",
    "## 이건 2, 3의 배수가 아닐 때 오류남 \n",
    "# def solution(n):\n",
    "#     answer = 0\n",
    "#     new_list = []\n",
    "#     for i in range(1, n+1):\n",
    "#         if (n * i) % 6  == 0:\n",
    "#             new_list.append((n*i) // 6)\n",
    "            \n",
    "#     answer = new_list[0]\n",
    "    \n",
    "#     return answer  \n"
   ]
  },
  {
   "cell_type": "code",
   "execution_count": 5,
   "metadata": {},
   "outputs": [],
   "source": [
    "#55. 문자열 정렬하기(2)\n",
    "def solution(my_string):\n",
    "    answer = my_string.lower()\n",
    "    answer = ''.join(sorted(answer))\n",
    "    return answer\n",
    "        "
   ]
  },
  {
   "cell_type": "code",
   "execution_count": null,
   "metadata": {},
   "outputs": [],
   "source": [
    "#56. 외계행성의 나이\n",
    "def solution(age):\n",
    "    age_map = {0:'a', 1: 'b', 2:'c', 3:'d', 4:'e', 5:'f', 6:'g', 7:'h', 8:'i', 9:'j', 10:'k',\n",
    "               11:'l', 12:'m', 13:'n', 14:'o', 15:'p', 16:'q', 17:'r', 18:'s', 19:'t', 20:'u', \n",
    "               21:'v', 22:'w', 23:'x', 24:'y', 25:'z'}\n",
    "    return ''.join(age_map[int(i)] for i in str(age))"
   ]
  },
  {
   "cell_type": "code",
   "execution_count": 22,
   "metadata": {},
   "outputs": [],
   "source": [
    "#57. 배열 회전시키기\n",
    "def solution(numbers, direction):\n",
    "        if direction == 'right':\n",
    "            return [numbers[-1]] + numbers[:-1]\n",
    "        else:\n",
    "            return numbers[1:] + [numbers[0]]"
   ]
  },
  {
   "cell_type": "code",
   "execution_count": 17,
   "metadata": {},
   "outputs": [
    {
     "name": "stdout",
     "output_type": "stream",
     "text": [
      "0\n",
      "1\n",
      "2\n",
      "3\n",
      "4\n",
      "5\n"
     ]
    }
   ],
   "source": [
    "#58. 369게임\n",
    "def solution(order):\n",
    "    answer = 0\n",
    "    for i in str(order):\n",
    "        if i == '3':\n",
    "            answer += 1\n",
    "        elif i == '6':\n",
    "            answer += 1\n",
    "        elif i == '9':\n",
    "            answer += 1\n",
    "        else:\n",
    "            answer += 0\n",
    "\n",
    "    return answer"
   ]
  },
  {
   "cell_type": "code",
   "execution_count": 34,
   "metadata": {},
   "outputs": [
    {
     "name": "stdout",
     "output_type": "stream",
     "text": [
      "k\n"
     ]
    },
    {
     "data": {
      "text/plain": [
       "-1"
      ]
     },
     "execution_count": 34,
     "metadata": {},
     "output_type": "execute_result"
    }
   ],
   "source": [
    "#59. 숫자 찾기\n",
    "def solution(num, k):\n",
    "    num_str = str(num)\n",
    "    k_str = str(k)\n",
    "\n",
    "    if k_str in num_str:\n",
    "        return num_str.index(k_str)+1\n",
    "    else:\n",
    "        return -1"
   ]
  },
  {
   "cell_type": "code",
   "execution_count": 38,
   "metadata": {},
   "outputs": [],
   "source": [
    "#60. 합성수 찾기\n",
    "def solution(n):\n",
    "    prime_count = 0  \n",
    "    \n",
    "    for i in range(2, n+1):  \n",
    "        is_prime = True  \n",
    "        for j in range(2, int(i ** 0.5) + 1):  \n",
    "            if i % j == 0:\n",
    "                is_prime = False\n",
    "                break  \n",
    "        if is_prime:\n",
    "            prime_count += 1  \n",
    "\n",
    "    return n - (prime_count + 1)  # 전체에서 소수 개수와 1(자연수 1) 빼기"
   ]
  }
 ],
 "metadata": {
  "kernelspec": {
   "display_name": "Python 3",
   "language": "python",
   "name": "python3"
  },
  "language_info": {
   "codemirror_mode": {
    "name": "ipython",
    "version": 3
   },
   "file_extension": ".py",
   "mimetype": "text/x-python",
   "name": "python",
   "nbconvert_exporter": "python",
   "pygments_lexer": "ipython3",
   "version": "3.13.0"
  }
 },
 "nbformat": 4,
 "nbformat_minor": 2
}
