{
 "cells": [
  {
   "cell_type": "code",
   "execution_count": null,
   "metadata": {},
   "outputs": [],
   "source": [
    "#61. 중복된 문자 제거\n",
    "def solution(my_string):\n",
    "    answer = ''\n",
    "    for i in my_string:\n",
    "        if i not in answer: answer += i\n",
    "    \n",
    "    return answer"
   ]
  },
  {
   "cell_type": "code",
   "execution_count": 20,
   "metadata": {},
   "outputs": [],
   "source": [
    "#62. 모스부호\n",
    "def solution(letter):\n",
    "    answer = ''\n",
    "    mos_find = {'.-': 'a', '-...': 'b', '-.-.': 'c', '-..': 'd', '.': 'e', '..-.': 'f', \n",
    "                '--.': 'g', '....': 'h', '..': 'i', '.---': 'j', '-.-': 'k', '.-..': 'l', \n",
    "                '--': 'm', '-.': 'n', '---': 'o', '.--.': 'p', '--.-': 'q', '.-.': 'r', '...': 's', '-': 't', \n",
    "                '..-': 'u', '...-': 'v', '.--': 'w', '-..-': 'x', '-.--': 'y', '--..': 'z'}\n",
    "    letter_split = letter.split()\n",
    "    for code in letter_split:\n",
    "            answer += mos_find[code]\n",
    "\n",
    "    return answer"
   ]
  },
  {
   "cell_type": "code",
   "execution_count": null,
   "metadata": {},
   "outputs": [],
   "source": [
    "#63. 2차원으로 만들기\n",
    "def solution(num_list, n):\n",
    "    answer = [num_list[i:i+n] for i in range(0, len(num_list), n)]\n",
    "\n",
    "    return answer"
   ]
  },
  {
   "cell_type": "code",
   "execution_count": 24,
   "metadata": {},
   "outputs": [],
   "source": [
    "#64. k의 개수\n",
    "def solution(i, j, k):\n",
    "    answer = 0\n",
    "    k = str(k)  \n",
    "\n",
    "    for p in range(i, j+1):  \n",
    "        answer += str(p).count(k)  \n",
    "\n",
    "    return answer\n",
    "\n",
    "## 중복되는 수에서 k의 개수를 한번밖에 세지 않음 // count 메서드 도입 \n",
    "# def solution(i, j, k):\n",
    "#     answer = 0\n",
    "#     for p in range(i, j+1):\n",
    "#         p = str(p)\n",
    "#         k = str(k)\n",
    "#         if k in p:\n",
    "#             answer += 1\n",
    "\n",
    "#     return answer\n"
   ]
  },
  {
   "cell_type": "code",
   "execution_count": 29,
   "metadata": {},
   "outputs": [],
   "source": [
    "#65. A로 B 만들기\n",
    "def solution(before, after):\n",
    "    answer = 0\n",
    "    sorted_before = sorted(before)\n",
    "    sorted_after = sorted(after)\n",
    "    if sorted_before == sorted_after:\n",
    "        answer += 1\n",
    "    \n",
    "    return answer"
   ]
  },
  {
   "cell_type": "code",
   "execution_count": null,
   "metadata": {},
   "outputs": [],
   "source": [
    "#66. 진료 순서 정하기\n",
    "def solution(emergency):\n",
    "    answer_map = {} \n",
    "    \n",
    "    answer_sorted = sorted(emergency, reverse=True)  \n",
    "\n",
    "    for index, value in enumerate(answer_sorted):\n",
    "        answer_map[value] = index + 1  \n",
    "\n",
    "    answer = [answer_map[num] for num in emergency]\n",
    "    \n",
    "    return answer\n",
    "\n",
    "# def solution(emergency):\n",
    "#     answer = []\n",
    "#     answer_map = {}\n",
    "#     answer_index = []\n",
    "#     for i in emergency:\n",
    "#         answer_sorted = emergency.sort(reverse=True)\n",
    "\n",
    "#     for k in range(len(answer_sorted)):\n",
    "#         answer_index.appned(k)    \n",
    "    \n",
    "#     for k in range(len(emergency)):\n",
    "#         answer_map[answer_sorted[j]] = answer_index[j]+1\n",
    "\n",
    "#     answer\n"
   ]
  },
  {
   "cell_type": "code",
   "execution_count": null,
   "metadata": {},
   "outputs": [],
   "source": [
    "#67. 팩토리얼\n",
    "def solution(n):\n",
    "    factorial_value = 1 \n",
    "    i = 1  \n",
    "\n",
    "    while factorial_value <= n: \n",
    "        i += 1\n",
    "        factorial_value *= i\n",
    "\n",
    "    return i - 1  \n",
    "\n",
    "# def solution(n):\n",
    "#     factorial_answer = 1\n",
    "#     for i in range(1, n+1):\n",
    "#         factorial_answer *= i\n",
    "#         if factorial_answer > n: \n",
    "#             return i - 1\n",
    "\n",
    "# def solution(n):\n",
    "#     factorial_answer = 1\n",
    "#     for i in range(1, n+1):\n",
    "#         factorial_answer *= i\n",
    "#         if factorial_answer > n:  # n을 초과하면 종료\n",
    "#             return i - 1\n",
    "\n",
    "# def solution(n): ## 여기까지는 했는데 그 다음을,, \n",
    "#     answer = 0\n",
    "#     factorial_answer = 1\n",
    "#     i = 1\n",
    "#     for i in range(1, n+1):\n",
    "#         factorial_answer *= i"
   ]
  },
  {
   "cell_type": "code",
   "execution_count": null,
   "metadata": {},
   "outputs": [],
   "source": [
    "#68. 숨어있는 숫자의 덧셈(2)\n",
    "def solution(my_string):\n",
    "    num = ''\n",
    "    numbers = []  \n",
    "    \n",
    "    for i in my_string:\n",
    "        if i.isdigit(): \n",
    "            num += i\n",
    "        else:\n",
    "            if num:  \n",
    "                numbers.append(int(num))\n",
    "                num = ''  \n",
    "\n",
    "    if num:  \n",
    "        numbers.append(int(num))\n",
    "    \n",
    "    return sum(numbers)"
   ]
  },
  {
   "cell_type": "code",
   "execution_count": null,
   "metadata": {},
   "outputs": [],
   "source": [
    "#69. 가까운 수\n",
    "def solution(array, n):\n",
    "    answer = 0\n",
    "    new_list = []\n",
    "    j = 0\n",
    "    j_index = 0\n",
    "    array.sort() # 가장 가까운 수가 여러 개일 경우 더 작은 수 return\n",
    "    for i in range(0, len(array)):\n",
    "        new_list.append(abs(n-array[i]))\n",
    "\n",
    "    j = min(new_list)\n",
    "    j_index = new_list.index(j)\n",
    "\n",
    "    answer = array[j_index]\n",
    "\n",
    "    return answer\n",
    "\n",
    "# def solution(array, n):\n",
    "#     array.sort()  # 가까운 값이 여러 개일 때 작은 값을 우선 선택\n",
    "#     new_list = [abs(n - num) for num in array]  # 절댓값 차이 리스트 생성\n",
    "\n",
    "#     min_value = min(new_list)  # 최소 차이값 찾기\n",
    "#     min_index = new_list.index(min_value)  # 최소 차이값의 인덱스 찾기\n",
    "\n",
    "#     return array[min_index]  # 해당 인덱스의 원래 숫자 반환\n"
   ]
  },
  {
   "cell_type": "code",
   "execution_count": 53,
   "metadata": {},
   "outputs": [
    {
     "name": "stdout",
     "output_type": "stream",
     "text": [
      "5\n"
     ]
    }
   ],
   "source": [
    "#70. 한 번만 등장한 문자\n",
    "def solution(s):\n",
    "    unique_list = [char for char in s if s.count(char) == 1]  \n",
    "    return ''.join(sorted(unique_list))  \n",
    "\n",
    "# def solution(s):\n",
    "#     array_s = []\n",
    "#     num_array = []\n",
    "#     for i in s:\n",
    "#         array_s.append(i)\n",
    "    \n",
    "#     for j in array_s:\n",
    "#         if array_s.count('j') != 1:\n",
    "#             del j\n",
    "\n",
    "#     return ''.join(array_s.sort())"
   ]
  }
 ],
 "metadata": {
  "kernelspec": {
   "display_name": "Python 3",
   "language": "python",
   "name": "python3"
  },
  "language_info": {
   "codemirror_mode": {
    "name": "ipython",
    "version": 3
   },
   "file_extension": ".py",
   "mimetype": "text/x-python",
   "name": "python",
   "nbconvert_exporter": "python",
   "pygments_lexer": "ipython3",
   "version": "3.13.0"
  }
 },
 "nbformat": 4,
 "nbformat_minor": 2
}
