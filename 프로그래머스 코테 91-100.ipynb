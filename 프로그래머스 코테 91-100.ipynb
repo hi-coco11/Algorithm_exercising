{
 "cells": [
  {
   "cell_type": "code",
   "execution_count": null,
   "metadata": {},
   "outputs": [],
   "source": [
    "#91. 특이한 정렬\n",
    "\n",
    "def solution(numlist, n):\n",
    "    \n",
    "    sorted_arr = sorted(numlist, key=lambda x: (abs(x - n), -x))\n",
    "    return sorted_arr"
   ]
  },
  {
   "cell_type": "code",
   "execution_count": 1,
   "metadata": {},
   "outputs": [
    {
     "data": {
      "text/plain": [
       "'x2x'"
      ]
     },
     "execution_count": 1,
     "metadata": {},
     "output_type": "execute_result"
    }
   ],
   "source": [
    "#92. 다항식 더하기\n",
    "## 동류항 더하기\n",
    "### 완전 gpt만 사용했음\n",
    "def solution(polynomial):\n",
    "    terms = polynomial.split(' + ')  \n",
    "    x_sum = 0  \n",
    "    const_sum = 0  \n",
    "\n",
    "    for term in terms:\n",
    "        if 'x' in term:\n",
    "            if term == 'x':\n",
    "                x_sum += 1\n",
    "            else:\n",
    "                x_sum += int(term.replace('x', '')) # x를 공백으로 바꾸고 앞의 정수만 더하기(int 변환 후)\n",
    "        else:\n",
    "            const_sum += int(term)  \n",
    "\n",
    "    result = []\n",
    "    if x_sum:\n",
    "        result.append(f\"{x_sum}x\" if x_sum != 1 else \"x\")  # 그다음 x 붙여주기\n",
    "    if const_sum:\n",
    "        result.append(str(const_sum))\n",
    "\n",
    "    return ' + '.join(result) \n",
    "\n"
   ]
  },
  {
   "cell_type": "code",
   "execution_count": null,
   "metadata": {},
   "outputs": [],
   "source": [
    "#93. 최빈값 구하기\n",
    "def solution(array):\n",
    "    num_list = []\n",
    "\n",
    "    for i in array:\n",
    "        num_list.append(array.count(i))\n",
    "\n",
    "    max_count = max(num_list)\n",
    "\n",
    "    mode_candidates = [array[i] for i in range(len(array)) if num_list[i] == max_count]\n",
    "\n",
    "    unique_modes = list(set(mode_candidates))\n",
    "\n",
    "    if len(unique_modes) == 1:\n",
    "        return unique_modes[0]\n",
    "    else:\n",
    "        return -1\n"
   ]
  },
  {
   "cell_type": "code",
   "execution_count": 14,
   "metadata": {},
   "outputs": [
    {
     "data": {
      "text/plain": [
       "[1, 1, 3, 3, 3, 1]"
      ]
     },
     "execution_count": 14,
     "metadata": {},
     "output_type": "execute_result"
    }
   ],
   "source": [
    "## 여기서 발전해나가기가 어려웠음\n",
    "### len개념을 이용해서 길이가 1임을 확인\n",
    "# arr = [1, 2, 3, 3, 3, 4]\n",
    "# num_list = []\n",
    "# for i in arr:\n",
    "#     num_list.append(arr.count(i))\n",
    "\n",
    "# # 최빈값이 1개일 경우\n",
    "# mode = num_list.index(max(pp))\n"
   ]
  },
  {
   "cell_type": "code",
   "execution_count": null,
   "metadata": {},
   "outputs": [],
   "source": [
    "#94. OX 퀴즈\n",
    "def solution(quiz):\n",
    "    answer = []\n",
    "    \n",
    "    for q in quiz:\n",
    "        parts = q.split() \n",
    "        \n",
    "        X = int(parts[0])\n",
    "        operator = parts[1]\n",
    "        Y = int(parts[2])\n",
    "        Z = int(parts[4])\n",
    "        \n",
    "        if operator == '+':\n",
    "            result = X + Y\n",
    "        elif operator == '-':\n",
    "            result = X - Y\n",
    "        \n",
    "        if result == Z:\n",
    "            answer.append(\"O\")\n",
    "        else:\n",
    "            answer.append(\"X\")\n",
    "    \n",
    "    return answer\n"
   ]
  },
  {
   "cell_type": "code",
   "execution_count": null,
   "metadata": {},
   "outputs": [],
   "source": [
    "# #94. OX퀴즈\n",
    "# def solution(quiz):\n",
    "#     answer = []\n",
    "\n",
    "#     split_list = [q.split() for q in quiz]\n",
    "\n",
    "#     converted_quiz = [\n",
    "#         [int(item) if item.isdigit() else item for item in sublist]\n",
    "#         for sublist in split_list\n",
    "#     ]\n",
    "\n",
    "#     for quizlist in converted_quiz:\n",
    "#         try:\n",
    "#             if '+' in quizlist:\n",
    "#                 result = quizlist[0] + quizlist[2]\n",
    "#             elif '-' in quizlist:\n",
    "#                 result = quizlist[0] - quizlist[2]\n",
    "#             else:\n",
    "#                 # 연산 기호가 없을 경우, X\n",
    "#                 answer.append(\"X\")\n",
    "#                 continue\n",
    "\n",
    "#             if result == quizlist[4]:\n",
    "#                 answer.append(\"O\")\n",
    "#             else:\n",
    "#                 answer.append(\"X\")\n",
    "\n",
    "#         except (IndexError, ValueError):\n",
    "#             answer.append(\"X\")\n",
    "        \n",
    "#     return answer\n"
   ]
  },
  {
   "cell_type": "code",
   "execution_count": null,
   "metadata": {},
   "outputs": [],
   "source": [
    "# def solution(quiz):\n",
    "#     result = 0\n",
    "#     split_list = []\n",
    "#     answer = []\n",
    "\n",
    "#     for i in quiz:\n",
    "#         split_list.append(i.split())\n",
    "\n",
    "#     converted_quiz = [\n",
    "#         [int(item) if item.isdigit() else item for item in sublist]\n",
    "#         for sublist in split_list\n",
    "#     ]\n",
    "\n",
    "#     for quizlist in converted_quiz:\n",
    "#         if '+' in quizlist:\n",
    "#             result = quizlist[0] + quizlist[2]\n",
    "#             if result == quizlist[4]:\n",
    "#                 answer.append(\"O\")\n",
    "#             else:\n",
    "#                 answer.append(\"X\")\n",
    "#         if '-' in quizlist:\n",
    "#             result = quizlist[0] - quizlist[2]\n",
    "#             if result == quizlist[4]:\n",
    "#                 answer.append(\"O\")\n",
    "#             else:\n",
    "#                 answer.append(\"X\")\n",
    "        \n",
    "#     return answer\n"
   ]
  },
  {
   "cell_type": "code",
   "execution_count": 34,
   "metadata": {},
   "outputs": [
    {
     "name": "stdout",
     "output_type": "stream",
     "text": [
      "[[3, '+', 3, '=', 2], [2, '+', 3, '=', 5]]\n"
     ]
    }
   ],
   "source": [
    "# result = 0\n",
    "# set_matplotlib_close = []\n",
    "# answer = []\n",
    "\n",
    "# for i in a:\n",
    "#     split_list.append(i.split())\n",
    "\n",
    "# converted_quiz = [\n",
    "#     [int(item) if item.isdigit() else item for item in sublist]\n",
    "#     for sublist in split_list\n",
    "# ]\n",
    "\n",
    "# print(converted_quiz)\n",
    "\n",
    "# result = 0\n",
    "# answer = []\n",
    "# for k in converted_quiz:\n",
    "#     print(i)\n",
    "#     if '+' in i:\n",
    "#         result = i[0] + i[2]\n",
    "#         if result == i[4]:\n",
    "#             answer.append(\"O\")\n",
    "#         else:\n",
    "#             answer.append(\"X\")\n",
    "#     if '-' in i:\n",
    "#         result = i[0] - i[2]\n",
    "#         if result == i[4]:\n",
    "#             answer.append(\"O\")\n",
    "#         else:\n",
    "#             answer.append(\"X\")\n",
    "        \n"
   ]
  },
  {
   "cell_type": "code",
   "execution_count": 38,
   "metadata": {},
   "outputs": [
    {
     "name": "stdout",
     "output_type": "stream",
     "text": [
      "[3, '+', 3, '=', 2]\n",
      "[2, '+', 3, '=', 5]\n"
     ]
    }
   ],
   "source": [
    "## 덧셈, 뺼셈 확인하는 로직\n",
    "### 더 쉬운 로직은 없을까?\n",
    "# result = 0\n",
    "# answer = []\n",
    "# for i in converted_quiz:\n",
    "#     print(i)\n",
    "#     if '+' in i:\n",
    "#         result = i[0] + i[2]\n",
    "#         if result == i[4]:\n",
    "#             answer.append(\"O\")\n",
    "#         else:\n",
    "#             answer.append(\"X\")\n",
    "#     if '-' in i:\n",
    "#         result = i[0] - i[2]\n",
    "#         if result == i[4]:\n",
    "#             answer.append(\"O\")\n",
    "#         else:\n",
    "#             answer.append(\"X\")\n",
    "        "
   ]
  },
  {
   "cell_type": "code",
   "execution_count": 43,
   "metadata": {},
   "outputs": [],
   "source": [
    "#95. 다음에 올 숫자\n",
    "def solution(common):\n",
    "    if (common[2] - common[1]) == (common[1] - common[0]):\n",
    "        return common[len(common)-1] + (common[2] - common[1])\n",
    "    else:\n",
    "        return common[len(common)-1] * (common[2] // common[1])"
   ]
  },
  {
   "cell_type": "code",
   "execution_count": 42,
   "metadata": {},
   "outputs": [
    {
     "name": "stdout",
     "output_type": "stream",
     "text": [
      "2\n"
     ]
    }
   ],
   "source": [
    "#96. 연속된 수의 합\n",
    "def solution(num, total):\n",
    "    answer = []\n",
    "    center = total // num  \n",
    "\n",
    "    if num % 2 == 1:\n",
    "        answer.append(center)\n",
    "        for i in range(1, (num // 2) + 1):\n",
    "            answer.append(center - i)\n",
    "            answer.append(center + i)\n",
    "    \n",
    "    else:\n",
    "        start_left = center - (num // 2) + 1  \n",
    "        for i in range(num):\n",
    "            answer.append(start_left + i)\n",
    "\n",
    "    answer.sort()\n",
    "    return answer\n"
   ]
  },
  {
   "cell_type": "code",
   "execution_count": 47,
   "metadata": {},
   "outputs": [
    {
     "data": {
      "text/plain": [
       "3"
      ]
     },
     "execution_count": 47,
     "metadata": {},
     "output_type": "execute_result"
    }
   ],
   "source": [
    "# #96. 연속된 수의 합\n",
    "# def solution(num, total):\n",
    "#     answer = []\n",
    "#     if num % 2 != 0:\n",
    "#         answer.append(total // num)\n",
    "#         for i in range(1, num+1):\n",
    "#             if i < num:\n",
    "#                 answer.append((total // num)-i)\n",
    "#             else:\n",
    "#                 answer.append((total // num)+i)\n",
    "#     else:\n",
    "#         answer.append(int(total // num) - 0.5)\n",
    "#         answer.append(int(total // num) + 0.5)\n",
    "#         for i in range(1, )"
   ]
  },
  {
   "cell_type": "code",
   "execution_count": 52,
   "metadata": {},
   "outputs": [
    {
     "name": "stdout",
     "output_type": "stream",
     "text": [
      "[1, 2, 3, 5]\n"
     ]
    }
   ],
   "source": [
    "# a = [1, 5, 2, 3]\n",
    "# a.sort()\n",
    "# print(a)"
   ]
  },
  {
   "cell_type": "code",
   "execution_count": null,
   "metadata": {},
   "outputs": [],
   "source": [
    "# #96. 연속된 수의 합\n",
    "# ### num에 맞춰서 숫자가 펼쳐지는 걸 구현하기 어려움움\n",
    "# def solution(num, total):\n",
    "#     answer = []\n",
    "#     difference = 0\n",
    "#     center = total // num\n",
    "#     if total % num != 2:\n",
    "#         difference = ((total // num) - 1)\n",
    "#         answer.append(center)\n",
    "#         for i in range(1, num+1):\n",
    "#             if i < num:\n",
    "#                 answer.append(center - i)\n",
    "#                 answer.append(center + i)\n",
    "#     else:\n",
    "#         answer.append(int(center - 0.5))\n",
    "#         answer.append(int(center + 0.5))\n",
    "\n",
    "#         for i in range(1, num+1):\n",
    "#             if i < num:\n",
    "#                 answer.append(int(center - 0.5) - i)\n",
    "#                 answer.append(int(center + 0.5) + i)\n",
    "\n",
    "#     answer.sort()\n",
    "#     return answer"
   ]
  },
  {
   "cell_type": "code",
   "execution_count": null,
   "metadata": {},
   "outputs": [],
   "source": [
    "#97. 분수의 덧셈\n",
    "# 최대공약수 구하는 함수\n",
    "def gcd(a, b):\n",
    "    while b:\n",
    "        a, b = b, a % b\n",
    "    return a  \n",
    "\n",
    "def solution(numer1, denom1, numer2, denom2):\n",
    "    answer = [0, 0]\n",
    "    if max(denom1, denom2) % min(denom1, denom2) == 0:\n",
    "        answer[0] = min(numer1, numer2) * (max(denom1, denom2) // min(denom1, denom2)) + max(numer1, numer2)\n",
    "        answer[1] = max(denom1, denom2)\n",
    "    else:\n",
    "        answer[0] = numer1 * ((denom1 * denom2) // denom1) + numer2 * ((denom1 * denom2) // denom2)\n",
    "        answer[1] = denom1 * denom2\n",
    "\n",
    "    gcd_value = gcd(answer[0], answer[1])  \n",
    "    answer[0] //= gcd_value  \n",
    "    answer[1] //= gcd_value  \n",
    "\n",
    "    return answer"
   ]
  },
  {
   "cell_type": "code",
   "execution_count": 55,
   "metadata": {},
   "outputs": [
    {
     "name": "stdout",
     "output_type": "stream",
     "text": [
      "2\n"
     ]
    }
   ],
   "source": [
    "# #97. 분수의 덧셈\n",
    "# ### 여기까지는 내가 한 거 // 기약분수로 만드는 과정에서 최대공약수를 사용 (기약분수 - 최대공약수)\n",
    "# 와 이걸 내가 했다!\n",
    "# def gcd(a, b):\n",
    "#     while b:\n",
    "#         a, b = b, a % b\n",
    "#     return a  \n",
    "\n",
    "# def solution(numer1, denom1, numer2, denom2):\n",
    "#     answer = [0, 0]\n",
    "#     if max(denom1, denom2) % min(denom1, denom2) == 0:\n",
    "#         answer[0] = min(numer1, numer2) * (max(denom1, denom2) // min(denom1, denom2)) + max(numer1, numer2)\n",
    "#         answer[1] = max(denom1, denom2)\n",
    "#     else:\n",
    "#         answer[0] = numer1 * ((denom1 * denom2) // denom1) + numer2 * ((denom1 * denom2) // denom2)\n",
    "#         answer[1] = denom1 * denom2"
   ]
  },
  {
   "cell_type": "code",
   "execution_count": null,
   "metadata": {},
   "outputs": [],
   "source": [
    "#98. 안전지대\n",
    "## 전혀 갈피를 잡지 못하겠음\n",
    "def solution(board):\n",
    "    N = len(board)\n",
    "    dx = [-1, 1, 0, 0, -1, -1, 1, 1] # 8방향 탐색\n",
    "    dy = [0, 0, -1, 1, -1, 1, -1, 1]\n",
    "    \n",
    "    # 지뢰 설치\n",
    "    boom = []\n",
    "    for i in range(len(board)):\n",
    "        for j in range(len(board)):\n",
    "            if board[i][j] == 1:\n",
    "                boom.append((i,j)) # 지뢰일때의 인덱스 append\n",
    "                \n",
    "    # 지뢰가 설치된 곳 주변에 폭탄 설치\n",
    "    for x, y in boom:\n",
    "        for i in range(8):\n",
    "            nx = x + dx[i]\n",
    "            ny = y + dy[i]\n",
    "            if 0 <= nx < N and 0 <= ny < N:\n",
    "                board[nx][ny] = 1\n",
    "\n",
    "    # 폭탄이 설치되지 않은 곳만 카운팅\n",
    "    count = 0\n",
    "    for x in range(N):\n",
    "        for y in range(N):\n",
    "            if board[x][y] == 0:\n",
    "                count += 1\n",
    "    return count"
   ]
  },
  {
   "cell_type": "code",
   "execution_count": null,
   "metadata": {},
   "outputs": [],
   "source": [
    "#99. 겹치는 선분의 길이\n",
    "## 갈피를 잡았는데 case를 분류하는 과정에서 너무 어려움 => 검색 참조\n",
    "\n",
    "def solution(lines):\n",
    "    sets = [set(range(min(l), max(l))) for l in lines]\n",
    "    return len(sets[0] & sets[1] | sets[0] & sets[2] | sets[1] & sets[2])"
   ]
  },
  {
   "cell_type": "code",
   "execution_count": null,
   "metadata": {},
   "outputs": [],
   "source": [
    "#100. 평행\n",
    "def get_slope(p1, p2):\n",
    "    if p1[0] == p2[0]:  \n",
    "        return None  \n",
    "    return (p2[1] - p1[1]) / (p2[0] - p1[0])\n",
    "\n",
    "def solution(dots):\n",
    "    pairings = [\n",
    "        (0, 1, 2, 3),  \n",
    "        (0, 2, 1, 3),  \n",
    "        (0, 3, 1, 2)   \n",
    "    ]\n",
    "\n",
    "    for a, b, c, d in pairings:\n",
    "        if get_slope(dots[a], dots[b]) == get_slope(dots[c], dots[d]):\n",
    "            return 1  \n",
    "\n",
    "    return 0  "
   ]
  },
  {
   "cell_type": "code",
   "execution_count": 75,
   "metadata": {},
   "outputs": [
    {
     "data": {
      "text/plain": [
       "0"
      ]
     },
     "execution_count": 75,
     "metadata": {},
     "output_type": "execute_result"
    }
   ],
   "source": [
    "# #100. 평행\n",
    "# from itertools import combinations\n",
    "\n",
    "# def get_slope(p1, p2):\n",
    "#     if p1[0] == p2[0]:  \n",
    "#         return None  \n",
    "#     return (p2[1] - p1[1]) / (p2[0] - p1[0])\n",
    "\n",
    "# def solution(dots):\n",
    "#     slopes = []\n",
    "\n",
    "#     for (p1, p2) in combinations(dots, 2):\n",
    "#         slopes.append(get_slope(p1, p2))\n",
    "\n",
    "#     if len(set(slopes)) == 1:  \n",
    "#         return 1 \n",
    "\n",
    "#     if len(slopes) != len(set(slopes)):\n",
    "#         return 1  \n",
    "\n",
    "#     return 0  "
   ]
  },
  {
   "cell_type": "code",
   "execution_count": 79,
   "metadata": {},
   "outputs": [
    {
     "name": "stdout",
     "output_type": "stream",
     "text": [
      "[0.25, 2.0, 0.2, 1.0, 2.0, 0.25]\n",
      "[(8, -2), (2, 4), (10, 2), (-6, 6), (2, 4), (8, -2)]\n"
     ]
    },
    {
     "data": {
      "text/plain": [
       "4"
      ]
     },
     "execution_count": 79,
     "metadata": {},
     "output_type": "execute_result"
    }
   ],
   "source": [
    "# #100. 평행\n",
    "# ## 이거는 점 4개 중에서 2개씩 조합을 뽑아 계산하는 경우가 아님\n",
    "# def solution(dots):\n",
    "#     width_length = []\n",
    "#     inclination = []\n",
    "    \n",
    "#     # 점들이 각각 모두 다를 때\n",
    "#     for i in range(1, len(dots)):  \n",
    "#         width_length.append((dots[i][0] - dots[0][0], dots[i][1] - dots[0][1]))\n",
    "\n",
    "#     for i in range(2, len(dots)):  \n",
    "#         width_length.append((dots[i][0] - dots[1][0], dots[i][1] - dots[1][1]))\n",
    "\n",
    "#     for i in range(3, len(dots)):\n",
    "#         width_length.append((dots[i][0] - dots[2][0], dots[i][1] - dots[2][1]))\n",
    "\n",
    "#     for dot in width_length:\n",
    "#         if dot[0] != 0:  # x 차이가 0이면 기울기 계산 불가능 (수직선 예외처리)\n",
    "#             inclination.append(abs(dot[1] / dot[0]))  \n",
    "\n",
    "#     # 두 직선이 평행한 경우    \n",
    "#     if len(inclination) != len(set(inclination)):\n",
    "#         return 1\n",
    "\n",
    "#     # 두 직선이 일치할 때\n",
    "#     if len(dots) != len(set(tuple(dot) for dot in dots)):\n",
    "#         return 1\n",
    "\n",
    "#     return 0\n",
    "\n"
   ]
  },
  {
   "cell_type": "code",
   "execution_count": 72,
   "metadata": {},
   "outputs": [
    {
     "name": "stdout",
     "output_type": "stream",
     "text": [
      "[(8, -2), (2, 4), (10, 2), (-6, 6), (2, 4), (8, -2)]\n"
     ]
    },
    {
     "data": {
      "text/plain": [
       "2"
      ]
     },
     "execution_count": 72,
     "metadata": {},
     "output_type": "execute_result"
    }
   ],
   "source": [
    "# dots_new = [[1, 4], [9, 2], [3, 8], [11, 6]]\n",
    "# width_length = []\n",
    "# inclination = []\n",
    "# # 두 개의 값이 다른경우가 있을 때\n",
    "# # 이렇게 해서 6개중에 첫번째 원소와 두번째 원소를 빼서 그 값을 절대값을 구했을 때 같으면 평행\n",
    "# ## if문\n",
    "# for i in range(1, len(dots_new)):  \n",
    "#     width_length.append((dots_new[i][0] - dots_new[0][0], dots_new[i][1] - dots_new[0][1]))\n",
    "\n",
    "# for i in range(2, len(dots_new)):  \n",
    "#     width_length.append((dots_new[i][0] - dots_new[1][0], dots_new[i][1] - dots_new[1][1]))\n",
    "\n",
    "# for i in range(3, len(dots_new)):\n",
    "#     width_length.append((dots_new[i][0] - dots_new[2][0], dots_new[i][1] - dots_new[2][1]))\n",
    "\n",
    "# for dots in width_length:\n",
    "#     if dots[0] != 0:  # x 차이가 0이면 기울기 계산 불가능 (수직선 예외처리)\n",
    "#         inclination.append(abs(dots[1] / dots[0]))  # 올바른 인덱스 사용\n",
    "    \n",
    "#     if len(inclination) != len(set(inclination)):\n",
    "#         return 1  \n",
    "    \n",
    "#     return 0  \n",
    "\n",
    "# print(inclination)\n",
    "\n",
    "\n"
   ]
  },
  {
   "cell_type": "code",
   "execution_count": null,
   "metadata": {},
   "outputs": [],
   "source": [
    "#101. 옹알이\n",
    "from itertools import permutations\n",
    "\n",
    "def solution(babbling):\n",
    "    string = ['aya', 'ye', 'woo', 'ma']\n",
    "    valid_words = set()\n",
    "\n",
    "    for i in range(1, 5):\n",
    "        for perm in permutations(string, i):\n",
    "            valid_words.add(\"\".join(perm))\n",
    "    \n",
    "    return sum(1 for word in babbling if word in valid_words)"
   ]
  }
 ],
 "metadata": {
  "kernelspec": {
   "display_name": "Python 3",
   "language": "python",
   "name": "python3"
  },
  "language_info": {
   "codemirror_mode": {
    "name": "ipython",
    "version": 3
   },
   "file_extension": ".py",
   "mimetype": "text/x-python",
   "name": "python",
   "nbconvert_exporter": "python",
   "pygments_lexer": "ipython3",
   "version": "3.13.0"
  }
 },
 "nbformat": 4,
 "nbformat_minor": 2
}
