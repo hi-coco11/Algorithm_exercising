{
 "cells": [
  {
   "cell_type": "code",
   "execution_count": 92,
   "metadata": {},
   "outputs": [
    {
     "data": {
      "text/plain": [
       "30"
      ]
     },
     "execution_count": 92,
     "metadata": {},
     "output_type": "execute_result"
    }
   ],
   "source": [
    "#11. 짝수의 합\n",
    "\n",
    "def solution(n):\n",
    "    answer = 0\n",
    "    for i in range(1, n+1):\n",
    "        if (i % 2) == 0:\n",
    "            answer = answer + i\n",
    "        \n",
    "    return answer\n",
    "    \n",
    "solution(10)\n",
    "    "
   ]
  },
  {
   "cell_type": "code",
   "execution_count": 93,
   "metadata": {},
   "outputs": [
    {
     "data": {
      "text/plain": [
       "'잘못된 입력'"
      ]
     },
     "execution_count": 93,
     "metadata": {},
     "output_type": "execute_result"
    }
   ],
   "source": [
    "#12. 점의 위치 구하기\n",
    "\n",
    "def solution(dot):\n",
    "    # dot 길이는 2\n",
    "    if (len(dot) != 2):\n",
    "        return '잘못된 입력'\n",
    "\n",
    "    # 0 방지\n",
    "    for i in dot:\n",
    "        if (dot[0] == 0 or dot[1] == 0):\n",
    "            print('잘못된 입력.')\n",
    "            break\n",
    "\n",
    "    # 사분면 판단   \n",
    "        for i in dot:\n",
    "            if(dot[0] > 0 and dot[1] > 0):\n",
    "                return 1\n",
    "            elif (dot[0] > 0 and dot[1] < 0):\n",
    "                return 4\n",
    "            elif (dot[0] < 0 and dot[1] > 0):\n",
    "                return 2\n",
    "            else:\n",
    "                return 3\n",
    "\n",
    "\n",
    "dot = [2, 0,3]\n",
    "solution(dot)"
   ]
  },
  {
   "cell_type": "code",
   "execution_count": 94,
   "metadata": {},
   "outputs": [
    {
     "data": {
      "text/plain": [
       "3"
      ]
     },
     "execution_count": 94,
     "metadata": {},
     "output_type": "execute_result"
    }
   ],
   "source": [
    "#13. 머쓱이보다 키 큰 사람\n",
    "\n",
    "def solution(array, height):\n",
    "    count = 0\n",
    "    for i in array:\n",
    "        if(i > height):\n",
    "            count += 1\n",
    "    return count\n",
    "\n",
    "array_1 = [149, 180, 192, 170]\n",
    "height_1 = 167\n",
    "\n",
    "solution(array_1, height_1)"
   ]
  },
  {
   "cell_type": "code",
   "execution_count": 95,
   "metadata": {},
   "outputs": [
    {
     "ename": "_IncompleteInputError",
     "evalue": "incomplete input (1823182760.py, line 4)",
     "output_type": "error",
     "traceback": [
      "\u001b[1;36m  Cell \u001b[1;32mIn[95], line 4\u001b[1;36m\u001b[0m\n\u001b[1;33m    \u001b[0m\n\u001b[1;37m    ^\u001b[0m\n\u001b[1;31m_IncompleteInputError\u001b[0m\u001b[1;31m:\u001b[0m incomplete input\n"
     ]
    }
   ],
   "source": [
    "#14. 배열의 유사도\n",
    "def solution(s1, s2):\n",
    "    for i in s1:\n",
    "        "
   ]
  },
  {
   "cell_type": "code",
   "execution_count": null,
   "metadata": {},
   "outputs": [],
   "source": [
    "#15. 피자 나눠먹기(3)\n",
    "def solution(slice, n):\n",
    "    \n",
    "    return (n + slice - 1) // slice \n"
   ]
  },
  {
   "cell_type": "code",
   "execution_count": null,
   "metadata": {},
   "outputs": [],
   "source": [
    "#16. 배열 원소의 길이\n",
    "\n",
    "def solution(strlist):\n",
    "    answer = []\n",
    "    for i in strlist:\n",
    "        answer.append(len(i))\n",
    "\n",
    "    return answer\n"
   ]
  },
  {
   "cell_type": "code",
   "execution_count": null,
   "metadata": {},
   "outputs": [],
   "source": [
    "#17. 문자열 안에 문자열열\n",
    "def solution(str1, str2):\n",
    "    if str2 in str1:\n",
    "        return 1\n",
    "    else:\n",
    "        return 2"
   ]
  },
  {
   "cell_type": "code",
   "execution_count": 80,
   "metadata": {},
   "outputs": [
    {
     "data": {
      "text/plain": [
       "2"
      ]
     },
     "execution_count": 80,
     "metadata": {},
     "output_type": "execute_result"
    }
   ],
   "source": [
    "#18. 제곱수 판별하기\n",
    "def solution(n):\n",
    "    div = []\n",
    "    for i in range(1, int(n ** 0.5) + 1):\n",
    "        if n % i == 0:\n",
    "            div.append(i)\n",
    "            if i != n // i: # 대칭되는 수 추가가\n",
    "                div.append(n // i)\n",
    "    \n",
    "    if len(div) % 2 != 0: # 약수의 개수\n",
    "        return 1\n",
    "    else: \n",
    "        return 2\n",
    "        \n",
    "solution(976)\n"
   ]
  },
  {
   "cell_type": "code",
   "execution_count": 86,
   "metadata": {},
   "outputs": [
    {
     "data": {
      "text/plain": [
       "[5, 3, 1, 1, 1, 0, 1]"
      ]
     },
     "execution_count": 86,
     "metadata": {},
     "output_type": "execute_result"
    }
   ],
   "source": [
    "#19. 배열 뒤집기\n",
    "def solution(num_list):\n",
    "    answer = []\n",
    "    for i in range(1, len(num_list)+1):\n",
    "        answer.append(num_list[len(num_list)-i])\n",
    "    \n",
    "    return answer"
   ]
  },
  {
   "cell_type": "code",
   "execution_count": 98,
   "metadata": {},
   "outputs": [
    {
     "name": "stdout",
     "output_type": "stream",
     "text": [
      "[30, 30, 1, 0]\n"
     ]
    },
    {
     "data": {
      "text/plain": [
       "900"
      ]
     },
     "execution_count": 98,
     "metadata": {},
     "output_type": "execute_result"
    }
   ],
   "source": [
    "#20. 최댓값 만들기(2)\n",
    "\n",
    "def solution(numbers):\n",
    "    numbers.sort(reverse=True)\n",
    "    mul = numbers[0] * numbers[1]\n",
    "\n",
    "    return mul\n",
    "\n",
    "numbers = [0, 30, 30, 1]\n",
    "solution(numbers)"
   ]
  }
 ],
 "metadata": {
  "kernelspec": {
   "display_name": "Python 3",
   "language": "python",
   "name": "python3"
  },
  "language_info": {
   "codemirror_mode": {
    "name": "ipython",
    "version": 3
   },
   "file_extension": ".py",
   "mimetype": "text/x-python",
   "name": "python",
   "nbconvert_exporter": "python",
   "pygments_lexer": "ipython3",
   "version": "3.13.0"
  }
 },
 "nbformat": 4,
 "nbformat_minor": 2
}
